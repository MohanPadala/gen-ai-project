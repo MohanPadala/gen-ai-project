{
  "nbformat": 4,
  "nbformat_minor": 0,
  "metadata": {
    "colab": {
      "provenance": [],
      "authorship_tag": "ABX9TyN8HyxJqLUGwlARXWgmWyM9",
      "include_colab_link": true
    },
    "kernelspec": {
      "name": "python3",
      "display_name": "Python 3"
    },
    "language_info": {
      "name": "python"
    }
  },
  "cells": [
    {
      "cell_type": "markdown",
      "metadata": {
        "id": "view-in-github",
        "colab_type": "text"
      },
      "source": [
        "<a href=\"https://colab.research.google.com/github/MohanPadala/gen-ai-project/blob/main/AnimeMovieRecommendSystem.ipynb\" target=\"_parent\"><img src=\"https://colab.research.google.com/assets/colab-badge.svg\" alt=\"Open In Colab\"/></a>"
      ]
    },
    {
      "cell_type": "code",
      "execution_count": null,
      "metadata": {
        "id": "Re1rVAlzS9Ua"
      },
      "outputs": [],
      "source": [
        "!pip install langchain langchain-community langchain_groq chromadb gradio"
      ]
    },
    {
      "cell_type": "code",
      "source": [
        "import pandas as pd\n",
        "from langchain.chains import RetrievalQA\n",
        "from langchain.embeddings.huggingface import HuggingFaceEmbeddings\n",
        "from langchain.document_loaders import TextLoader\n",
        "from langchain.text_splitter import CharacterTextSplitter\n",
        "from langchain.vectorstores import Chroma\n",
        "from langchain.document_loaders.csv_loader import CSVLoader\n",
        "from langchain_groq import ChatGroq"
      ],
      "metadata": {
        "id": "InXmARE6Tu5f"
      },
      "execution_count": null,
      "outputs": []
    },
    {
      "cell_type": "code",
      "source": [
        "anime = pd.read_csv(\"/content/anime_with_synopsis.csv\")\n",
        "anime.head()"
      ],
      "metadata": {
        "id": "ratsaOO9U-0F"
      },
      "execution_count": null,
      "outputs": []
    },
    {
      "cell_type": "code",
      "source": [
        "anime.dropna()"
      ],
      "metadata": {
        "id": "aIqnD5f6Wfn_"
      },
      "execution_count": null,
      "outputs": []
    },
    {
      "cell_type": "code",
      "source": [
        "anime['combined_df'] = anime.apply(lambda row: f\"Title: {row['Name']}. Overview: {row['sypnopsis']} Genres: {row['Genres']}\", axis=1)\n"
      ],
      "metadata": {
        "id": "OFdz-eroWtgy"
      },
      "execution_count": null,
      "outputs": []
    },
    {
      "cell_type": "code",
      "source": [
        "anime['combined_df'][0]"
      ],
      "metadata": {
        "id": "BWK7c2kKYwj2"
      },
      "execution_count": null,
      "outputs": []
    },
    {
      "cell_type": "code",
      "source": [
        "anime[['combined_df']].to_csv('anime_updated.csv', index = False)"
      ],
      "metadata": {
        "id": "vOAySfJxY9Rf"
      },
      "execution_count": null,
      "outputs": []
    },
    {
      "cell_type": "code",
      "source": [
        "pd.read_csv(\"/content/anime_updated.csv\")"
      ],
      "metadata": {
        "id": "-wjxr11VZL3e"
      },
      "execution_count": null,
      "outputs": []
    },
    {
      "cell_type": "markdown",
      "source": [
        "**Data** Loader and VectorStore using **Langchain**"
      ],
      "metadata": {
        "id": "QL_s6nQEfq8J"
      }
    },
    {
      "cell_type": "code",
      "source": [
        "loader=CSVLoader(file_path=\"/content/anime_updated.csv\")\n",
        "data = loader.load()\n",
        "\n",
        "text_splitter=CharacterTextSplitter(chunk_size = 1000, chunk_overlap = 0)\n",
        "texts = text_splitter.split_documents(data)\n",
        "embeddings = HuggingFaceEmbeddings()\n",
        "llm = ChatGroq(\n",
        "    api_key=os.getenv(\"GROQ_API_KEY\"),\n",
        "    model=\"llama-3.3-70b-versatile\",\n",
        "    temperature=0\n",
        ")\n",
        "\n",
        "\n",
        "\n",
        "\n",
        "\n",
        "\n",
        "docssearch = Chroma.from_documents(texts, embeddings)"
      ],
      "metadata": {
        "id": "KGFK3w9Afce1"
      },
      "execution_count": null,
      "outputs": []
    },
    {
      "cell_type": "markdown",
      "source": [
        "**Querying Vector DB Store for movie recommendation**"
      ],
      "metadata": {
        "id": "uquS7g7dibMp"
      }
    },
    {
      "cell_type": "code",
      "source": [
        "query = \"Iam looking for an animated sci-fi movie. What could you suggest movie\"\n",
        "docs=docssearch.similarity_search(query,k = 1)"
      ],
      "metadata": {
        "id": "yp1suU5Oigs7"
      },
      "execution_count": null,
      "outputs": []
    },
    {
      "cell_type": "code",
      "source": [
        "docs"
      ],
      "metadata": {
        "id": "sbCrNS2vlLXd"
      },
      "execution_count": null,
      "outputs": []
    },
    {
      "cell_type": "markdown",
      "source": [
        "**Using QA Retrieval for movie recommendation**"
      ],
      "metadata": {
        "id": "le7yHzAJlj57"
      }
    },
    {
      "cell_type": "code",
      "source": [
        "qa = RetrievalQA.from_chain_type(\n",
        "    llm,\n",
        "    chain_type=\"stuff\",\n",
        "    retriever=docssearch.as_retriever(),\n",
        "    return_source_documents=True\n",
        ")\n"
      ],
      "metadata": {
        "id": "eV2zi7uXlnhk"
      },
      "execution_count": null,
      "outputs": []
    },
    {
      "cell_type": "code",
      "source": [
        "query = \"Can you recommend a romance anime with a unique storyline?\"\n",
        "result=qa({\"query\":query})"
      ],
      "metadata": {
        "id": "C1wDNzZHmXOn"
      },
      "execution_count": null,
      "outputs": []
    },
    {
      "cell_type": "code",
      "source": [
        "result['result']"
      ],
      "metadata": {
        "id": "mw5XrUOQoiDC"
      },
      "execution_count": null,
      "outputs": []
    },
    {
      "cell_type": "code",
      "source": [
        "result['source_documents'][0]"
      ],
      "metadata": {
        "id": "NyCFOFH5opN4"
      },
      "execution_count": null,
      "outputs": []
    },
    {
      "cell_type": "markdown",
      "source": [
        "**Prompt Engineering**"
      ],
      "metadata": {
        "id": "emW0QGG7pBip"
      }
    },
    {
      "cell_type": "code",
      "source": [
        "from langchain.prompts import PromptTemplate\n",
        "\n",
        "template = \"\"\"You are a movie recommender system that help users to find anime that match their preferences.\n",
        "Use the following pieces of context to answer the question at the end. For each question, suggest three anime, with a short description of the plot and the reason why the user migth like it.\n",
        "If you don't know the answer, just say that you don't know, don't try to make up an answer.\n",
        "\n",
        "{context}\n",
        "\n",
        "Question: {question}\n",
        "Your response:\"\"\"\n",
        "\n",
        "PROMPT = PromptTemplate(\n",
        "    template=template, input_variables=[\"context\",\"question\"]\n",
        ")\n",
        "chain_type_kwargs = {\"prompt\": PROMPT}\n",
        "\n",
        "qa = RetrievalQA.from_chain_type(\n",
        "    llm,\n",
        "    chain_type=\"stuff\",\n",
        "    retriever=docssearch.as_retriever(),\n",
        "    return_source_documents=True,\n",
        "    chain_type_kwargs=chain_type_kwargs)\n",
        "\n",
        "query = \"Give me a list of comedy animes that are lighthearted and fun.\"\n",
        "result=qa({\"query\":query})\n",
        "print(result['result'])\n"
      ],
      "metadata": {
        "id": "BVz1VHp5oyyo"
      },
      "execution_count": null,
      "outputs": []
    },
    {
      "cell_type": "markdown",
      "source": [
        "**Second Template**"
      ],
      "metadata": {
        "id": "Ywh6_m2ruWzB"
      }
    },
    {
      "cell_type": "code",
      "source": [
        "from langchain.prompts import PromptTemplate\n",
        "\n",
        "template_prefix = \"\"\"You are a movie recommender system that helps users find anime that match their preferences. Use the following pieces of context to answer the question at the end. For each question, take into account the context and the personal information provided by the user. If you don't know the answer, just say that you don't know, don't try to make up an answer.\n",
        "Context: {context}\n",
        "\"\"\"\n",
        "\n",
        "user_info = \"\"\"This is what we know about the user, and you can use this information to better tune your research: Age: {age} Gender: {gender}\n",
        "\"\"\"\n",
        "\n",
        "template_suffix = \"\"\"Question: {question}\n",
        "Your response:\"\"\"\n",
        "\n",
        "# Format user_info\n",
        "user_info_filled = user_info.format(age=18, gender=\"female\")\n",
        "\n",
        "# Combine all parts\n",
        "COMBINED_PROMPT = template_prefix + '\\n' + user_info_filled + '\\n' + template_suffix\n",
        "\n",
        "print(COMBINED_PROMPT)\n"
      ],
      "metadata": {
        "id": "2TN70hZ0ubo9"
      },
      "execution_count": null,
      "outputs": []
    },
    {
      "cell_type": "code",
      "source": [
        "from langchain.prompts import PromptTemplate\n",
        "from langchain.chains import RetrievalQA\n",
        "import gradio as gr\n",
        "\n",
        "# Define prompt\n",
        "template_prefix = \"\"\"You are a movie recommender system that helps users find anime that match their preferences. Use the following pieces of context to answer the question at the end. For each question, take into account the context and the personal information provided by the user. If you don't know the answer, just say that you don't know, don't try to make up an answer.\n",
        "Context: {context}\n",
        "\"\"\"\n",
        "\n",
        "user_info = \"\"\"This is what we know about the user, and you can use this information to better tune your research: Age: {age} Gender: {gender}\n",
        "\"\"\"\n",
        "\n",
        "template_suffix = \"\"\"Question: {question}\n",
        "Your response:\"\"\"\n",
        "\n",
        "user_info_filled = user_info.format(age=18, gender=\"female\")\n",
        "COMBINED_PROMPT = template_prefix + '\\n' + user_info_filled + '\\n' + template_suffix\n",
        "\n",
        "PROMPT = PromptTemplate(\n",
        "    template=COMBINED_PROMPT, input_variables=[\"context\", \"question\"]\n",
        ")\n",
        "\n",
        "chain_type_kwargs = {\"prompt\": PROMPT}\n",
        "\n",
        "qa = RetrievalQA.from_chain_type(\n",
        "    llm,\n",
        "    chain_type=\"stuff\",\n",
        "    retriever=docssearch.as_retriever(),\n",
        "    return_source_documents=True,\n",
        "    chain_type_kwargs=chain_type_kwargs\n",
        ")\n",
        "\n",
        "def recommend_anime(query):\n",
        "    result = qa({\"query\": query})\n",
        "    return result['result']\n",
        "\n",
        "# Gradio interface\n",
        "iface = gr.Interface(\n",
        "    fn=recommend_anime,\n",
        "    inputs=gr.Textbox(label=\"Enter your anime preference\"),\n",
        "    outputs=gr.Textbox(label=\"Recommended Anime\"),\n",
        "    title=\"Anime Movie Recommender\",\n",
        "    theme=\"Respair/Shiki@1.2.1\"\n",
        ")\n",
        "\n",
        "if __name__ == \"__main__\":\n",
        "    iface.launch()\n"
      ],
      "metadata": {
        "id": "lSXdurexvJzC"
      },
      "execution_count": null,
      "outputs": []
    },
    {
      "cell_type": "code",
      "source": [],
      "metadata": {
        "id": "v4Nv2TLFvf7S"
      },
      "execution_count": null,
      "outputs": []
    }
  ]
}